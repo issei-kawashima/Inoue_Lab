{
 "cells": [
  {
   "cell_type": "code",
   "execution_count": 10,
   "metadata": {},
   "outputs": [
    {
     "data": {
      "text/html": [
       "<div>\n",
       "<style scoped>\n",
       "    .dataframe tbody tr th:only-of-type {\n",
       "        vertical-align: middle;\n",
       "    }\n",
       "\n",
       "    .dataframe tbody tr th {\n",
       "        vertical-align: top;\n",
       "    }\n",
       "\n",
       "    .dataframe thead th {\n",
       "        text-align: right;\n",
       "    }\n",
       "</style>\n",
       "<table border=\"1\" class=\"dataframe\">\n",
       "  <thead>\n",
       "    <tr style=\"text-align: right;\">\n",
       "      <th></th>\n",
       "      <th>x</th>\n",
       "      <th>y</th>\n",
       "      <th>z</th>\n",
       "      <th>rho</th>\n",
       "      <th>div_u</th>\n",
       "      <th>第二不変量Q</th>\n",
       "      <th>ゴミ</th>\n",
       "    </tr>\n",
       "  </thead>\n",
       "  <tbody>\n",
       "    <tr>\n",
       "      <th>0</th>\n",
       "      <td>0.00</td>\n",
       "      <td>-10.0</td>\n",
       "      <td>0.55</td>\n",
       "      <td>1.0</td>\n",
       "      <td>1.485000e-13</td>\n",
       "      <td>-0.0</td>\n",
       "      <td>NaN</td>\n",
       "    </tr>\n",
       "    <tr>\n",
       "      <th>1</th>\n",
       "      <td>0.05</td>\n",
       "      <td>-10.0</td>\n",
       "      <td>0.55</td>\n",
       "      <td>1.0</td>\n",
       "      <td>4.910000e-14</td>\n",
       "      <td>-0.0</td>\n",
       "      <td>NaN</td>\n",
       "    </tr>\n",
       "    <tr>\n",
       "      <th>2</th>\n",
       "      <td>0.10</td>\n",
       "      <td>-10.0</td>\n",
       "      <td>0.55</td>\n",
       "      <td>1.0</td>\n",
       "      <td>2.600000e-15</td>\n",
       "      <td>-0.0</td>\n",
       "      <td>NaN</td>\n",
       "    </tr>\n",
       "    <tr>\n",
       "      <th>3</th>\n",
       "      <td>0.15</td>\n",
       "      <td>-10.0</td>\n",
       "      <td>0.55</td>\n",
       "      <td>1.0</td>\n",
       "      <td>-2.200000e-15</td>\n",
       "      <td>0.0</td>\n",
       "      <td>NaN</td>\n",
       "    </tr>\n",
       "    <tr>\n",
       "      <th>4</th>\n",
       "      <td>0.20</td>\n",
       "      <td>-10.0</td>\n",
       "      <td>0.55</td>\n",
       "      <td>1.0</td>\n",
       "      <td>1.000000e-15</td>\n",
       "      <td>-0.0</td>\n",
       "      <td>NaN</td>\n",
       "    </tr>\n",
       "  </tbody>\n",
       "</table>\n",
       "</div>"
      ],
      "text/plain": [
       "      x     y     z  rho         div_u  第二不変量Q  ゴミ\n",
       "0  0.00 -10.0  0.55  1.0  1.485000e-13    -0.0 NaN\n",
       "1  0.05 -10.0  0.55  1.0  4.910000e-14    -0.0 NaN\n",
       "2  0.10 -10.0  0.55  1.0  2.600000e-15    -0.0 NaN\n",
       "3  0.15 -10.0  0.55  1.0 -2.200000e-15     0.0 NaN\n",
       "4  0.20 -10.0  0.55  1.0  1.000000e-15    -0.0 NaN"
      ]
     },
     "execution_count": 10,
     "metadata": {},
     "output_type": "execute_result"
    }
   ],
   "source": [
    "import pandas as pd\n",
    "names=[\"x\",\"y\",\"z\",\"rho\",\"div_u\",\"第二不変量Q\",\"ゴミ\"]\n",
    "df = pd.read_csv(\"/Users/isseyshome/Documents/GitHub/Inoue_Lab/3dimensions/result_omp/parameter000095_11.txt\",\\\n",
    "                 sep=\",\",header = None,names=names)\n",
    "df.head()"
   ]
  },
  {
   "cell_type": "code",
   "execution_count": 14,
   "metadata": {},
   "outputs": [
    {
     "data": {
      "text/html": [
       "<div>\n",
       "<style scoped>\n",
       "    .dataframe tbody tr th:only-of-type {\n",
       "        vertical-align: middle;\n",
       "    }\n",
       "\n",
       "    .dataframe tbody tr th {\n",
       "        vertical-align: top;\n",
       "    }\n",
       "\n",
       "    .dataframe thead th {\n",
       "        text-align: right;\n",
       "    }\n",
       "</style>\n",
       "<table border=\"1\" class=\"dataframe\">\n",
       "  <thead>\n",
       "    <tr style=\"text-align: right;\">\n",
       "      <th></th>\n",
       "      <th>x</th>\n",
       "      <th>y</th>\n",
       "      <th>z</th>\n",
       "      <th>rho</th>\n",
       "      <th>div_u</th>\n",
       "      <th>第二不変量Q</th>\n",
       "      <th>ゴミ</th>\n",
       "    </tr>\n",
       "  </thead>\n",
       "  <tbody>\n",
       "    <tr>\n",
       "      <th>38627</th>\n",
       "      <td>0.0</td>\n",
       "      <td>0.35</td>\n",
       "      <td>0.55</td>\n",
       "      <td>0.314692</td>\n",
       "      <td>44.763304</td>\n",
       "      <td>639.104830</td>\n",
       "      <td>NaN</td>\n",
       "    </tr>\n",
       "    <tr>\n",
       "      <th>37905</th>\n",
       "      <td>0.0</td>\n",
       "      <td>0.25</td>\n",
       "      <td>0.55</td>\n",
       "      <td>0.314695</td>\n",
       "      <td>44.763235</td>\n",
       "      <td>639.089838</td>\n",
       "      <td>NaN</td>\n",
       "    </tr>\n",
       "    <tr>\n",
       "      <th>38266</th>\n",
       "      <td>0.0</td>\n",
       "      <td>0.30</td>\n",
       "      <td>0.55</td>\n",
       "      <td>0.314696</td>\n",
       "      <td>44.762646</td>\n",
       "      <td>639.125404</td>\n",
       "      <td>NaN</td>\n",
       "    </tr>\n",
       "    <tr>\n",
       "      <th>35017</th>\n",
       "      <td>0.0</td>\n",
       "      <td>-0.15</td>\n",
       "      <td>0.55</td>\n",
       "      <td>0.314697</td>\n",
       "      <td>44.762829</td>\n",
       "      <td>639.080664</td>\n",
       "      <td>NaN</td>\n",
       "    </tr>\n",
       "    <tr>\n",
       "      <th>37183</th>\n",
       "      <td>0.0</td>\n",
       "      <td>0.15</td>\n",
       "      <td>0.55</td>\n",
       "      <td>0.314698</td>\n",
       "      <td>44.762638</td>\n",
       "      <td>639.089261</td>\n",
       "      <td>NaN</td>\n",
       "    </tr>\n",
       "  </tbody>\n",
       "</table>\n",
       "</div>"
      ],
      "text/plain": [
       "         x     y     z       rho      div_u      第二不変量Q  ゴミ\n",
       "38627  0.0  0.35  0.55  0.314692  44.763304  639.104830 NaN\n",
       "37905  0.0  0.25  0.55  0.314695  44.763235  639.089838 NaN\n",
       "38266  0.0  0.30  0.55  0.314696  44.762646  639.125404 NaN\n",
       "35017  0.0 -0.15  0.55  0.314697  44.762829  639.080664 NaN\n",
       "37183  0.0  0.15  0.55  0.314698  44.762638  639.089261 NaN"
      ]
     },
     "execution_count": 14,
     "metadata": {},
     "output_type": "execute_result"
    }
   ],
   "source": [
    "df = df.sort_values('rho')\n",
    "df.head()"
   ]
  },
  {
   "cell_type": "code",
   "execution_count": 16,
   "metadata": {},
   "outputs": [
    {
     "data": {
      "text/plain": [
       "31"
      ]
     },
     "execution_count": 16,
     "metadata": {},
     "output_type": "execute_result"
    }
   ],
   "source": [
    "df_part = df.query(\"rho < 0.4\")\n",
    "len(df_part)"
   ]
  },
  {
   "cell_type": "code",
   "execution_count": 22,
   "metadata": {},
   "outputs": [
    {
     "data": {
      "text/plain": [
       "x          1\n",
       "y         31\n",
       "z          1\n",
       "rho       31\n",
       "div_u     31\n",
       "第二不変量Q    31\n",
       "ゴミ         0\n",
       "dtype: int64"
      ]
     },
     "metadata": {},
     "output_type": "display_data"
    },
    {
     "data": {
      "text/plain": [
       "x           0.000000\n",
       "y          -0.750000\n",
       "z           0.550000\n",
       "rho         0.314692\n",
       "div_u      35.341738\n",
       "第二不変量Q    508.099292\n",
       "ゴミ               NaN\n",
       "Name: 0, dtype: float64"
      ]
     },
     "metadata": {},
     "output_type": "display_data"
    }
   ],
   "source": [
    "#最頻値の個数と最大の最頻値\n",
    "display(df_part.mode().count())\n",
    "display(df_part.mode().iloc[0])"
   ]
  },
  {
   "cell_type": "code",
   "execution_count": 27,
   "metadata": {},
   "outputs": [
    {
     "data": {
      "text/plain": [
       "x           0.000000\n",
       "y           0.750000\n",
       "z           0.550000\n",
       "rho         0.370717\n",
       "div_u      44.763304\n",
       "第二不変量Q    639.125404\n",
       "ゴミ               NaN\n",
       "dtype: float64"
      ]
     },
     "metadata": {},
     "output_type": "display_data"
    },
    {
     "data": {
      "text/plain": [
       "x           0.000000\n",
       "y          -0.750000\n",
       "z           0.550000\n",
       "rho         0.314692\n",
       "div_u      35.341738\n",
       "第二不変量Q    508.099292\n",
       "ゴミ               NaN\n",
       "dtype: float64"
      ]
     },
     "metadata": {},
     "output_type": "display_data"
    }
   ],
   "source": [
    "display(df_part.max())\n",
    "display(df_part.min())"
   ]
  },
  {
   "cell_type": "code",
   "execution_count": 23,
   "metadata": {},
   "outputs": [
    {
     "data": {
      "text/html": [
       "<div>\n",
       "<style scoped>\n",
       "    .dataframe tbody tr th:only-of-type {\n",
       "        vertical-align: middle;\n",
       "    }\n",
       "\n",
       "    .dataframe tbody tr th {\n",
       "        vertical-align: top;\n",
       "    }\n",
       "\n",
       "    .dataframe thead th {\n",
       "        text-align: right;\n",
       "    }\n",
       "</style>\n",
       "<table border=\"1\" class=\"dataframe\">\n",
       "  <thead>\n",
       "    <tr style=\"text-align: right;\">\n",
       "      <th></th>\n",
       "      <th>x</th>\n",
       "      <th>y</th>\n",
       "      <th>z</th>\n",
       "      <th>rho</th>\n",
       "      <th>div_u</th>\n",
       "      <th>第二不変量Q</th>\n",
       "      <th>dp</th>\n",
       "    </tr>\n",
       "  </thead>\n",
       "  <tbody>\n",
       "    <tr>\n",
       "      <th>0</th>\n",
       "      <td>0.00</td>\n",
       "      <td>-10.0</td>\n",
       "      <td>0.55</td>\n",
       "      <td>1.0</td>\n",
       "      <td>-0.0</td>\n",
       "      <td>0.0</td>\n",
       "      <td>4.900000e-15</td>\n",
       "    </tr>\n",
       "    <tr>\n",
       "      <th>1</th>\n",
       "      <td>0.05</td>\n",
       "      <td>-10.0</td>\n",
       "      <td>0.55</td>\n",
       "      <td>1.0</td>\n",
       "      <td>0.0</td>\n",
       "      <td>0.0</td>\n",
       "      <td>1.710000e-14</td>\n",
       "    </tr>\n",
       "    <tr>\n",
       "      <th>2</th>\n",
       "      <td>0.10</td>\n",
       "      <td>-10.0</td>\n",
       "      <td>0.55</td>\n",
       "      <td>1.0</td>\n",
       "      <td>0.0</td>\n",
       "      <td>0.0</td>\n",
       "      <td>-1.460000e-14</td>\n",
       "    </tr>\n",
       "    <tr>\n",
       "      <th>3</th>\n",
       "      <td>0.15</td>\n",
       "      <td>-10.0</td>\n",
       "      <td>0.55</td>\n",
       "      <td>1.0</td>\n",
       "      <td>0.0</td>\n",
       "      <td>0.0</td>\n",
       "      <td>-1.230000e-14</td>\n",
       "    </tr>\n",
       "    <tr>\n",
       "      <th>4</th>\n",
       "      <td>0.20</td>\n",
       "      <td>-10.0</td>\n",
       "      <td>0.55</td>\n",
       "      <td>1.0</td>\n",
       "      <td>-0.0</td>\n",
       "      <td>0.0</td>\n",
       "      <td>3.600000e-15</td>\n",
       "    </tr>\n",
       "  </tbody>\n",
       "</table>\n",
       "</div>"
      ],
      "text/plain": [
       "      x     y     z  rho  div_u  第二不変量Q            dp\n",
       "0  0.00 -10.0  0.55  1.0   -0.0     0.0  4.900000e-15\n",
       "1  0.05 -10.0  0.55  1.0    0.0     0.0  1.710000e-14\n",
       "2  0.10 -10.0  0.55  1.0    0.0     0.0 -1.460000e-14\n",
       "3  0.15 -10.0  0.55  1.0    0.0     0.0 -1.230000e-14\n",
       "4  0.20 -10.0  0.55  1.0   -0.0     0.0  3.600000e-15"
      ]
     },
     "execution_count": 23,
     "metadata": {},
     "output_type": "execute_result"
    }
   ],
   "source": [
    "import pandas as pd\n",
    "names=[\"x\",\"y\",\"z\",\"rho\",\"div_u\",\"第二不変量Q\",\"dp\"]\n",
    "df = pd.read_csv(\"/Users/isseyshome/Downloads/result_omp/parameter000500_11.txt\",\\\n",
    "                 sep=\",\",header = None,names=names)\n",
    "df.head()"
   ]
  },
  {
   "cell_type": "code",
   "execution_count": 24,
   "metadata": {},
   "outputs": [
    {
     "data": {
      "text/html": [
       "<div>\n",
       "<style scoped>\n",
       "    .dataframe tbody tr th:only-of-type {\n",
       "        vertical-align: middle;\n",
       "    }\n",
       "\n",
       "    .dataframe tbody tr th {\n",
       "        vertical-align: top;\n",
       "    }\n",
       "\n",
       "    .dataframe thead th {\n",
       "        text-align: right;\n",
       "    }\n",
       "</style>\n",
       "<table border=\"1\" class=\"dataframe\">\n",
       "  <thead>\n",
       "    <tr style=\"text-align: right;\">\n",
       "      <th></th>\n",
       "      <th>x</th>\n",
       "      <th>y</th>\n",
       "      <th>z</th>\n",
       "      <th>rho</th>\n",
       "      <th>div_u</th>\n",
       "      <th>第二不変量Q</th>\n",
       "      <th>dp</th>\n",
       "    </tr>\n",
       "  </thead>\n",
       "  <tbody>\n",
       "    <tr>\n",
       "      <th>29963</th>\n",
       "      <td>0.0</td>\n",
       "      <td>-0.85</td>\n",
       "      <td>0.55</td>\n",
       "      <td>0.711183</td>\n",
       "      <td>3.959533</td>\n",
       "      <td>-2.780000e-14</td>\n",
       "      <td>-11.391742</td>\n",
       "    </tr>\n",
       "    <tr>\n",
       "      <th>42237</th>\n",
       "      <td>0.0</td>\n",
       "      <td>0.85</td>\n",
       "      <td>0.55</td>\n",
       "      <td>0.711183</td>\n",
       "      <td>1.722376</td>\n",
       "      <td>-2.780000e-14</td>\n",
       "      <td>-11.020143</td>\n",
       "    </tr>\n",
       "    <tr>\n",
       "      <th>41876</th>\n",
       "      <td>0.0</td>\n",
       "      <td>0.80</td>\n",
       "      <td>0.55</td>\n",
       "      <td>0.711895</td>\n",
       "      <td>0.796352</td>\n",
       "      <td>-5.550000e-14</td>\n",
       "      <td>-12.593136</td>\n",
       "    </tr>\n",
       "    <tr>\n",
       "      <th>30324</th>\n",
       "      <td>0.0</td>\n",
       "      <td>-0.80</td>\n",
       "      <td>0.55</td>\n",
       "      <td>0.711895</td>\n",
       "      <td>2.108408</td>\n",
       "      <td>-5.550000e-14</td>\n",
       "      <td>-12.791652</td>\n",
       "    </tr>\n",
       "    <tr>\n",
       "      <th>41515</th>\n",
       "      <td>0.0</td>\n",
       "      <td>0.75</td>\n",
       "      <td>0.55</td>\n",
       "      <td>0.713004</td>\n",
       "      <td>0.303934</td>\n",
       "      <td>0.000000e+00</td>\n",
       "      <td>-13.971922</td>\n",
       "    </tr>\n",
       "  </tbody>\n",
       "</table>\n",
       "</div>"
      ],
      "text/plain": [
       "         x     y     z       rho     div_u        第二不変量Q         dp\n",
       "29963  0.0 -0.85  0.55  0.711183  3.959533 -2.780000e-14 -11.391742\n",
       "42237  0.0  0.85  0.55  0.711183  1.722376 -2.780000e-14 -11.020143\n",
       "41876  0.0  0.80  0.55  0.711895  0.796352 -5.550000e-14 -12.593136\n",
       "30324  0.0 -0.80  0.55  0.711895  2.108408 -5.550000e-14 -12.791652\n",
       "41515  0.0  0.75  0.55  0.713004  0.303934  0.000000e+00 -13.971922"
      ]
     },
     "execution_count": 24,
     "metadata": {},
     "output_type": "execute_result"
    }
   ],
   "source": [
    "df = df.sort_values('rho')\n",
    "df.head()"
   ]
  },
  {
   "cell_type": "code",
   "execution_count": 25,
   "metadata": {},
   "outputs": [
    {
     "data": {
      "text/plain": [
       "x         361\n",
       "y         201\n",
       "z           1\n",
       "rho         1\n",
       "div_u       1\n",
       "第二不変量Q      1\n",
       "dp          1\n",
       "dtype: int64"
      ]
     },
     "metadata": {},
     "output_type": "display_data"
    },
    {
     "data": {
      "text/plain": [
       "x          0.00\n",
       "y        -10.00\n",
       "z          0.55\n",
       "rho        1.00\n",
       "div_u      0.00\n",
       "第二不変量Q     0.00\n",
       "dp         0.00\n",
       "Name: 0, dtype: float64"
      ]
     },
     "metadata": {},
     "output_type": "display_data"
    }
   ],
   "source": [
    "#最頻値の個数と最大の最頻値\n",
    "display(df.mode().count())\n",
    "display(df.mode().iloc[0])"
   ]
  },
  {
   "cell_type": "code",
   "execution_count": 26,
   "metadata": {},
   "outputs": [
    {
     "data": {
      "text/plain": [
       "x         36.000000\n",
       "y         10.000000\n",
       "z          0.550000\n",
       "rho        2.032273\n",
       "div_u      8.684376\n",
       "第二不変量Q     7.561405\n",
       "dp         2.382975\n",
       "dtype: float64"
      ]
     },
     "execution_count": 26,
     "metadata": {},
     "output_type": "execute_result"
    }
   ],
   "source": [
    "df.max()"
   ]
  }
 ],
 "metadata": {
  "kernelspec": {
   "display_name": "Python 3",
   "language": "python",
   "name": "python3"
  },
  "language_info": {
   "codemirror_mode": {
    "name": "ipython",
    "version": 3
   },
   "file_extension": ".py",
   "mimetype": "text/x-python",
   "name": "python",
   "nbconvert_exporter": "python",
   "pygments_lexer": "ipython3",
   "version": "3.7.3"
  }
 },
 "nbformat": 4,
 "nbformat_minor": 2
}
