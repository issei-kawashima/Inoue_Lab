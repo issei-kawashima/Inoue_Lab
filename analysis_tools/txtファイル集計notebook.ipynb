{
 "cells": [
  {
   "cell_type": "code",
   "execution_count": 1,
   "metadata": {},
   "outputs": [
    {
     "data": {
      "text/html": [
       "<div>\n",
       "<style scoped>\n",
       "    .dataframe tbody tr th:only-of-type {\n",
       "        vertical-align: middle;\n",
       "    }\n",
       "\n",
       "    .dataframe tbody tr th {\n",
       "        vertical-align: top;\n",
       "    }\n",
       "\n",
       "    .dataframe thead th {\n",
       "        text-align: right;\n",
       "    }\n",
       "</style>\n",
       "<table border=\"1\" class=\"dataframe\">\n",
       "  <thead>\n",
       "    <tr style=\"text-align: right;\">\n",
       "      <th></th>\n",
       "      <th>x</th>\n",
       "      <th>y</th>\n",
       "      <th>z</th>\n",
       "      <th>rho</th>\n",
       "      <th>div_u</th>\n",
       "      <th>第二不変量Q</th>\n",
       "    </tr>\n",
       "  </thead>\n",
       "  <tbody>\n",
       "    <tr>\n",
       "      <th>0</th>\n",
       "      <td>0.00</td>\n",
       "      <td>-10.0</td>\n",
       "      <td>0.5</td>\n",
       "      <td>0.999947</td>\n",
       "      <td>5.009223</td>\n",
       "      <td>-0.000000</td>\n",
       "    </tr>\n",
       "    <tr>\n",
       "      <th>1</th>\n",
       "      <td>0.05</td>\n",
       "      <td>-10.0</td>\n",
       "      <td>0.5</td>\n",
       "      <td>0.895456</td>\n",
       "      <td>0.196573</td>\n",
       "      <td>-0.000681</td>\n",
       "    </tr>\n",
       "    <tr>\n",
       "      <th>2</th>\n",
       "      <td>0.10</td>\n",
       "      <td>-10.0</td>\n",
       "      <td>0.5</td>\n",
       "      <td>0.929599</td>\n",
       "      <td>-0.220060</td>\n",
       "      <td>-0.003146</td>\n",
       "    </tr>\n",
       "    <tr>\n",
       "      <th>3</th>\n",
       "      <td>0.15</td>\n",
       "      <td>-10.0</td>\n",
       "      <td>0.5</td>\n",
       "      <td>0.942237</td>\n",
       "      <td>0.056094</td>\n",
       "      <td>-0.000473</td>\n",
       "    </tr>\n",
       "    <tr>\n",
       "      <th>4</th>\n",
       "      <td>0.20</td>\n",
       "      <td>-10.0</td>\n",
       "      <td>0.5</td>\n",
       "      <td>0.950257</td>\n",
       "      <td>-0.088622</td>\n",
       "      <td>-0.001392</td>\n",
       "    </tr>\n",
       "  </tbody>\n",
       "</table>\n",
       "</div>"
      ],
      "text/plain": [
       "      x     y    z       rho     div_u    第二不変量Q\n",
       "0  0.00 -10.0  0.5  0.999947  5.009223 -0.000000\n",
       "1  0.05 -10.0  0.5  0.895456  0.196573 -0.000681\n",
       "2  0.10 -10.0  0.5  0.929599 -0.220060 -0.003146\n",
       "3  0.15 -10.0  0.5  0.942237  0.056094 -0.000473\n",
       "4  0.20 -10.0  0.5  0.950257 -0.088622 -0.001392"
      ]
     },
     "execution_count": 1,
     "metadata": {},
     "output_type": "execute_result"
    }
   ],
   "source": [
    "import pandas as pd\n",
    "names=[\"x\",\"y\",\"z\",\"rho\",\"div_u\",\"第二不変量Q\"]\n",
    "df = pd.read_csv(\"/Users/isseyshome/Downloads/result_omp_1.6/parameter015620_10.txt\",\\\n",
    "                 sep=\",\",header = None,names=names)\n",
    "# names=[\"x\",\"y\",\"z\",\"rho\",\"div_u\",\"第二不変量Q\",\"ゴミ\"]\n",
    "# df = pd.read_csv(\"/Users/isseyshome/Documents/GitHub/Inoue_Lab/3dimensions/result_omp/parameter000095_11.txt\",\\\n",
    "#                  sep=\",\",header = None,names=names)\n",
    "df.head()"
   ]
  },
  {
   "cell_type": "code",
   "execution_count": 7,
   "metadata": {},
   "outputs": [
    {
     "data": {
      "text/html": [
       "<div>\n",
       "<style scoped>\n",
       "    .dataframe tbody tr th:only-of-type {\n",
       "        vertical-align: middle;\n",
       "    }\n",
       "\n",
       "    .dataframe tbody tr th {\n",
       "        vertical-align: top;\n",
       "    }\n",
       "\n",
       "    .dataframe thead th {\n",
       "        text-align: right;\n",
       "    }\n",
       "</style>\n",
       "<table border=\"1\" class=\"dataframe\">\n",
       "  <thead>\n",
       "    <tr style=\"text-align: right;\">\n",
       "      <th></th>\n",
       "      <th>x</th>\n",
       "      <th>y</th>\n",
       "      <th>z</th>\n",
       "      <th>rho</th>\n",
       "      <th>div_u</th>\n",
       "      <th>第二不変量Q</th>\n",
       "    </tr>\n",
       "  </thead>\n",
       "  <tbody>\n",
       "    <tr>\n",
       "      <th>34656</th>\n",
       "      <td>0.0</td>\n",
       "      <td>-0.20</td>\n",
       "      <td>0.5</td>\n",
       "      <td>0.028223</td>\n",
       "      <td>-44.957115</td>\n",
       "      <td>-0.494541</td>\n",
       "    </tr>\n",
       "    <tr>\n",
       "      <th>34295</th>\n",
       "      <td>0.0</td>\n",
       "      <td>-0.25</td>\n",
       "      <td>0.5</td>\n",
       "      <td>0.046120</td>\n",
       "      <td>-46.631791</td>\n",
       "      <td>-1.040974</td>\n",
       "    </tr>\n",
       "    <tr>\n",
       "      <th>31407</th>\n",
       "      <td>0.0</td>\n",
       "      <td>-0.65</td>\n",
       "      <td>0.5</td>\n",
       "      <td>0.080472</td>\n",
       "      <td>-39.971677</td>\n",
       "      <td>-0.877164</td>\n",
       "    </tr>\n",
       "    <tr>\n",
       "      <th>31768</th>\n",
       "      <td>0.0</td>\n",
       "      <td>-0.60</td>\n",
       "      <td>0.5</td>\n",
       "      <td>0.161781</td>\n",
       "      <td>-27.884761</td>\n",
       "      <td>-0.603182</td>\n",
       "    </tr>\n",
       "    <tr>\n",
       "      <th>42598</th>\n",
       "      <td>0.0</td>\n",
       "      <td>0.90</td>\n",
       "      <td>0.5</td>\n",
       "      <td>0.272654</td>\n",
       "      <td>-20.751344</td>\n",
       "      <td>-0.773871</td>\n",
       "    </tr>\n",
       "    <tr>\n",
       "      <th>31046</th>\n",
       "      <td>0.0</td>\n",
       "      <td>-0.70</td>\n",
       "      <td>0.5</td>\n",
       "      <td>0.291950</td>\n",
       "      <td>-16.038390</td>\n",
       "      <td>-1.152550</td>\n",
       "    </tr>\n",
       "    <tr>\n",
       "      <th>42237</th>\n",
       "      <td>0.0</td>\n",
       "      <td>0.85</td>\n",
       "      <td>0.5</td>\n",
       "      <td>0.295822</td>\n",
       "      <td>-18.322654</td>\n",
       "      <td>0.823819</td>\n",
       "    </tr>\n",
       "    <tr>\n",
       "      <th>37183</th>\n",
       "      <td>0.0</td>\n",
       "      <td>0.15</td>\n",
       "      <td>0.5</td>\n",
       "      <td>0.404763</td>\n",
       "      <td>-11.152224</td>\n",
       "      <td>-0.007641</td>\n",
       "    </tr>\n",
       "    <tr>\n",
       "      <th>42959</th>\n",
       "      <td>0.0</td>\n",
       "      <td>0.95</td>\n",
       "      <td>0.5</td>\n",
       "      <td>0.414600</td>\n",
       "      <td>-11.947917</td>\n",
       "      <td>-1.869501</td>\n",
       "    </tr>\n",
       "    <tr>\n",
       "      <th>41876</th>\n",
       "      <td>0.0</td>\n",
       "      <td>0.80</td>\n",
       "      <td>0.5</td>\n",
       "      <td>0.441734</td>\n",
       "      <td>-9.225461</td>\n",
       "      <td>0.342927</td>\n",
       "    </tr>\n",
       "  </tbody>\n",
       "</table>\n",
       "</div>"
      ],
      "text/plain": [
       "         x     y    z       rho      div_u    第二不変量Q\n",
       "34656  0.0 -0.20  0.5  0.028223 -44.957115 -0.494541\n",
       "34295  0.0 -0.25  0.5  0.046120 -46.631791 -1.040974\n",
       "31407  0.0 -0.65  0.5  0.080472 -39.971677 -0.877164\n",
       "31768  0.0 -0.60  0.5  0.161781 -27.884761 -0.603182\n",
       "42598  0.0  0.90  0.5  0.272654 -20.751344 -0.773871\n",
       "31046  0.0 -0.70  0.5  0.291950 -16.038390 -1.152550\n",
       "42237  0.0  0.85  0.5  0.295822 -18.322654  0.823819\n",
       "37183  0.0  0.15  0.5  0.404763 -11.152224 -0.007641\n",
       "42959  0.0  0.95  0.5  0.414600 -11.947917 -1.869501\n",
       "41876  0.0  0.80  0.5  0.441734  -9.225461  0.342927"
      ]
     },
     "execution_count": 7,
     "metadata": {},
     "output_type": "execute_result"
    }
   ],
   "source": [
    "df = df.sort_values('rho')\n",
    "df.head(10)"
   ]
  },
  {
   "cell_type": "code",
   "execution_count": 3,
   "metadata": {},
   "outputs": [
    {
     "data": {
      "text/plain": [
       "7"
      ]
     },
     "execution_count": 3,
     "metadata": {},
     "output_type": "execute_result"
    }
   ],
   "source": [
    "#rhoが小さくなってNaNの原因になっていそうな箇所を抽出する\n",
    "df_part = df.query(\"rho < 0.3\")\n",
    "len(df_part)"
   ]
  },
  {
   "cell_type": "code",
   "execution_count": 4,
   "metadata": {},
   "outputs": [
    {
     "data": {
      "text/plain": [
       "x         1\n",
       "y         7\n",
       "z         1\n",
       "rho       7\n",
       "div_u     7\n",
       "第二不変量Q    7\n",
       "dtype: int64"
      ]
     },
     "metadata": {},
     "output_type": "display_data"
    },
    {
     "data": {
      "text/plain": [
       "x          0.000000\n",
       "y         -0.700000\n",
       "z          0.500000\n",
       "rho        0.028223\n",
       "div_u    -46.631791\n",
       "第二不変量Q    -1.152550\n",
       "Name: 0, dtype: float64"
      ]
     },
     "metadata": {},
     "output_type": "display_data"
    }
   ],
   "source": [
    "#最頻値の個数と最大の最頻値\n",
    "display(df_part.mode().count())\n",
    "display(df_part.mode().iloc[0])"
   ]
  },
  {
   "cell_type": "code",
   "execution_count": 5,
   "metadata": {},
   "outputs": [
    {
     "data": {
      "text/plain": [
       "x          0.000000\n",
       "y          0.900000\n",
       "z          0.500000\n",
       "rho        0.295822\n",
       "div_u    -16.038390\n",
       "第二不変量Q     0.823819\n",
       "dtype: float64"
      ]
     },
     "metadata": {},
     "output_type": "display_data"
    },
    {
     "data": {
      "text/plain": [
       "x          0.000000\n",
       "y         -0.700000\n",
       "z          0.500000\n",
       "rho        0.028223\n",
       "div_u    -46.631791\n",
       "第二不変量Q    -1.152550\n",
       "dtype: float64"
      ]
     },
     "metadata": {},
     "output_type": "display_data"
    }
   ],
   "source": [
    "display(df_part.max())\n",
    "display(df_part.min())"
   ]
  },
  {
   "cell_type": "code",
   "execution_count": 6,
   "metadata": {
    "scrolled": false
   },
   "outputs": [
    {
     "data": {
      "text/plain": [
       "x         36.000000\n",
       "y         10.000000\n",
       "z          0.500000\n",
       "rho        1.752460\n",
       "div_u     10.527409\n",
       "第二不変量Q    32.607059\n",
       "dtype: float64"
      ]
     },
     "metadata": {},
     "output_type": "display_data"
    },
    {
     "data": {
      "text/plain": [
       "x          0.000000\n",
       "y        -10.000000\n",
       "z          0.500000\n",
       "rho        0.028223\n",
       "div_u    -46.631791\n",
       "第二不変量Q   -31.837822\n",
       "dtype: float64"
      ]
     },
     "metadata": {},
     "output_type": "display_data"
    }
   ],
   "source": [
    "#rhoの値に関係ない全体での最大・最小値\n",
    "display(df.max())\n",
    "display(df.min())"
   ]
  }
 ],
 "metadata": {
  "kernelspec": {
   "display_name": "Python 3",
   "language": "python",
   "name": "python3"
  },
  "language_info": {
   "codemirror_mode": {
    "name": "ipython",
    "version": 3
   },
   "file_extension": ".py",
   "mimetype": "text/x-python",
   "name": "python",
   "nbconvert_exporter": "python",
   "pygments_lexer": "ipython3",
   "version": "3.7.3"
  }
 },
 "nbformat": 4,
 "nbformat_minor": 2
}
