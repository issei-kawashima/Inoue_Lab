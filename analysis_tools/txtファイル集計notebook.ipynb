{
 "cells": [
  {
   "cell_type": "code",
   "execution_count": 1,
   "metadata": {},
   "outputs": [],
   "source": [
    "import pandas as pd\n",
    "names=[\"x\",\"y\",\"z\",\"rho\",\"div_u\",\"第二不変量Q\"] # NaNの時\n",
    "# names=[\"x\",\"y\",\"z\",\"rho\",\"div_u\",\"第二不変量Q\",\"dp/dt\"] #通常時\n",
    "df = pd.read_csv(\"/Users/isseyshome/Paper/result_analysis/sub_square_All000032.txt\",\\\n",
    "                 sep=\",\",header = None,names=names)\n",
    "df.head()\n",
    "df = df.sort_values('rho')"
   ]
  },
  {
   "cell_type": "code",
   "execution_count": 2,
   "metadata": {},
   "outputs": [
    {
     "data": {
      "text/html": [
       "<div>\n",
       "<style scoped>\n",
       "    .dataframe tbody tr th:only-of-type {\n",
       "        vertical-align: middle;\n",
       "    }\n",
       "\n",
       "    .dataframe tbody tr th {\n",
       "        vertical-align: top;\n",
       "    }\n",
       "\n",
       "    .dataframe thead th {\n",
       "        text-align: right;\n",
       "    }\n",
       "</style>\n",
       "<table border=\"1\" class=\"dataframe\">\n",
       "  <thead>\n",
       "    <tr style=\"text-align: right;\">\n",
       "      <th></th>\n",
       "      <th>x</th>\n",
       "      <th>y</th>\n",
       "      <th>z</th>\n",
       "      <th>rho</th>\n",
       "      <th>div_u</th>\n",
       "      <th>第二不変量Q</th>\n",
       "    </tr>\n",
       "  </thead>\n",
       "  <tbody>\n",
       "    <tr>\n",
       "      <th>667347</th>\n",
       "      <td>0.0</td>\n",
       "      <td>0.1</td>\n",
       "      <td>0.800265</td>\n",
       "      <td>0.043566</td>\n",
       "      <td>104.507319</td>\n",
       "      <td>8.205028</td>\n",
       "    </tr>\n",
       "    <tr>\n",
       "      <th>666985</th>\n",
       "      <td>0.0</td>\n",
       "      <td>-0.1</td>\n",
       "      <td>0.800265</td>\n",
       "      <td>0.043616</td>\n",
       "      <td>104.389536</td>\n",
       "      <td>8.247854</td>\n",
       "    </tr>\n",
       "    <tr>\n",
       "      <th>264803</th>\n",
       "      <td>0.0</td>\n",
       "      <td>-0.1</td>\n",
       "      <td>-0.800265</td>\n",
       "      <td>0.043655</td>\n",
       "      <td>104.293625</td>\n",
       "      <td>8.221611</td>\n",
       "    </tr>\n",
       "    <tr>\n",
       "      <th>265165</th>\n",
       "      <td>0.0</td>\n",
       "      <td>0.1</td>\n",
       "      <td>-0.800265</td>\n",
       "      <td>0.043663</td>\n",
       "      <td>104.276838</td>\n",
       "      <td>8.266041</td>\n",
       "    </tr>\n",
       "    <tr>\n",
       "      <th>667166</th>\n",
       "      <td>0.0</td>\n",
       "      <td>0.0</td>\n",
       "      <td>0.800265</td>\n",
       "      <td>0.043988</td>\n",
       "      <td>103.519011</td>\n",
       "      <td>7.990508</td>\n",
       "    </tr>\n",
       "    <tr>\n",
       "      <th>264984</th>\n",
       "      <td>0.0</td>\n",
       "      <td>0.0</td>\n",
       "      <td>-0.800265</td>\n",
       "      <td>0.044088</td>\n",
       "      <td>103.283709</td>\n",
       "      <td>8.068655</td>\n",
       "    </tr>\n",
       "    <tr>\n",
       "      <th>667528</th>\n",
       "      <td>0.0</td>\n",
       "      <td>0.2</td>\n",
       "      <td>0.800265</td>\n",
       "      <td>0.044105</td>\n",
       "      <td>103.255016</td>\n",
       "      <td>8.350220</td>\n",
       "    </tr>\n",
       "    <tr>\n",
       "      <th>666804</th>\n",
       "      <td>0.0</td>\n",
       "      <td>-0.2</td>\n",
       "      <td>0.800265</td>\n",
       "      <td>0.044161</td>\n",
       "      <td>103.125670</td>\n",
       "      <td>8.416264</td>\n",
       "    </tr>\n",
       "    <tr>\n",
       "      <th>265346</th>\n",
       "      <td>0.0</td>\n",
       "      <td>0.2</td>\n",
       "      <td>-0.800265</td>\n",
       "      <td>0.044187</td>\n",
       "      <td>103.064718</td>\n",
       "      <td>8.368757</td>\n",
       "    </tr>\n",
       "    <tr>\n",
       "      <th>264622</th>\n",
       "      <td>0.0</td>\n",
       "      <td>-0.2</td>\n",
       "      <td>-0.800265</td>\n",
       "      <td>0.044188</td>\n",
       "      <td>103.060037</td>\n",
       "      <td>8.318349</td>\n",
       "    </tr>\n",
       "  </tbody>\n",
       "</table>\n",
       "</div>"
      ],
      "text/plain": [
       "          x    y         z       rho       div_u    第二不変量Q\n",
       "667347  0.0  0.1  0.800265  0.043566  104.507319  8.205028\n",
       "666985  0.0 -0.1  0.800265  0.043616  104.389536  8.247854\n",
       "264803  0.0 -0.1 -0.800265  0.043655  104.293625  8.221611\n",
       "265165  0.0  0.1 -0.800265  0.043663  104.276838  8.266041\n",
       "667166  0.0  0.0  0.800265  0.043988  103.519011  7.990508\n",
       "264984  0.0  0.0 -0.800265  0.044088  103.283709  8.068655\n",
       "667528  0.0  0.2  0.800265  0.044105  103.255016  8.350220\n",
       "666804  0.0 -0.2  0.800265  0.044161  103.125670  8.416264\n",
       "265346  0.0  0.2 -0.800265  0.044187  103.064718  8.368757\n",
       "264622  0.0 -0.2 -0.800265  0.044188  103.060037  8.318349"
      ]
     },
     "execution_count": 2,
     "metadata": {},
     "output_type": "execute_result"
    }
   ],
   "source": [
    "df = df.sort_values('rho')\n",
    "# df = df.sort_values('div_u',ascending=False)\n",
    "df.head(10)"
   ]
  },
  {
   "cell_type": "code",
   "execution_count": 3,
   "metadata": {},
   "outputs": [
    {
     "data": {
      "text/plain": [
       "26"
      ]
     },
     "execution_count": 3,
     "metadata": {},
     "output_type": "execute_result"
    }
   ],
   "source": [
    "#rhoが小さくなってNaNの原因になっていそうな箇所を抽出する\n",
    "df_part = df.query(\"rho < 0.3\")\n",
    "len(df_part)"
   ]
  },
  {
   "cell_type": "code",
   "execution_count": 8,
   "metadata": {},
   "outputs": [
    {
     "data": {
      "text/html": [
       "<div>\n",
       "<style scoped>\n",
       "    .dataframe tbody tr th:only-of-type {\n",
       "        vertical-align: middle;\n",
       "    }\n",
       "\n",
       "    .dataframe tbody tr th {\n",
       "        vertical-align: top;\n",
       "    }\n",
       "\n",
       "    .dataframe thead th {\n",
       "        text-align: right;\n",
       "    }\n",
       "</style>\n",
       "<table border=\"1\" class=\"dataframe\">\n",
       "  <thead>\n",
       "    <tr style=\"text-align: right;\">\n",
       "      <th></th>\n",
       "      <th>x</th>\n",
       "      <th>y</th>\n",
       "      <th>z</th>\n",
       "      <th>rho</th>\n",
       "      <th>div_u</th>\n",
       "      <th>第二不変量Q</th>\n",
       "    </tr>\n",
       "  </thead>\n",
       "  <tbody>\n",
       "    <tr>\n",
       "      <th>667347</th>\n",
       "      <td>0.0</td>\n",
       "      <td>0.1</td>\n",
       "      <td>0.800265</td>\n",
       "      <td>0.043566</td>\n",
       "      <td>104.507319</td>\n",
       "      <td>8.205028</td>\n",
       "    </tr>\n",
       "    <tr>\n",
       "      <th>666985</th>\n",
       "      <td>0.0</td>\n",
       "      <td>-0.1</td>\n",
       "      <td>0.800265</td>\n",
       "      <td>0.043616</td>\n",
       "      <td>104.389536</td>\n",
       "      <td>8.247854</td>\n",
       "    </tr>\n",
       "    <tr>\n",
       "      <th>264803</th>\n",
       "      <td>0.0</td>\n",
       "      <td>-0.1</td>\n",
       "      <td>-0.800265</td>\n",
       "      <td>0.043655</td>\n",
       "      <td>104.293625</td>\n",
       "      <td>8.221611</td>\n",
       "    </tr>\n",
       "    <tr>\n",
       "      <th>265165</th>\n",
       "      <td>0.0</td>\n",
       "      <td>0.1</td>\n",
       "      <td>-0.800265</td>\n",
       "      <td>0.043663</td>\n",
       "      <td>104.276838</td>\n",
       "      <td>8.266041</td>\n",
       "    </tr>\n",
       "    <tr>\n",
       "      <th>667166</th>\n",
       "      <td>0.0</td>\n",
       "      <td>0.0</td>\n",
       "      <td>0.800265</td>\n",
       "      <td>0.043988</td>\n",
       "      <td>103.519011</td>\n",
       "      <td>7.990508</td>\n",
       "    </tr>\n",
       "  </tbody>\n",
       "</table>\n",
       "</div>"
      ],
      "text/plain": [
       "          x    y         z       rho       div_u    第二不変量Q\n",
       "667347  0.0  0.1  0.800265  0.043566  104.507319  8.205028\n",
       "666985  0.0 -0.1  0.800265  0.043616  104.389536  8.247854\n",
       "264803  0.0 -0.1 -0.800265  0.043655  104.293625  8.221611\n",
       "265165  0.0  0.1 -0.800265  0.043663  104.276838  8.266041\n",
       "667166  0.0  0.0  0.800265  0.043988  103.519011  7.990508"
      ]
     },
     "execution_count": 8,
     "metadata": {},
     "output_type": "execute_result"
    }
   ],
   "source": [
    "df_part.head()"
   ]
  },
  {
   "cell_type": "code",
   "execution_count": 4,
   "metadata": {},
   "outputs": [
    {
     "data": {
      "text/plain": [
       "x          1\n",
       "y         13\n",
       "z          2\n",
       "rho       26\n",
       "div_u     26\n",
       "第二不変量Q    26\n",
       "dtype: int64"
      ]
     },
     "metadata": {},
     "output_type": "display_data"
    },
    {
     "data": {
      "text/plain": [
       "x          0.000000\n",
       "y         -0.600000\n",
       "z         -0.800265\n",
       "rho        0.043566\n",
       "div_u     24.415493\n",
       "第二不変量Q   -19.230527\n",
       "Name: 0, dtype: float64"
      ]
     },
     "metadata": {},
     "output_type": "display_data"
    }
   ],
   "source": [
    "#最頻値の個数と最大の最頻値\n",
    "display(df_part.mode().count())\n",
    "display(df_part.mode().iloc[0])"
   ]
  },
  {
   "cell_type": "code",
   "execution_count": 5,
   "metadata": {},
   "outputs": [
    {
     "data": {
      "text/plain": [
       "x           0.000000\n",
       "y           0.600000\n",
       "z           0.800265\n",
       "rho         0.190561\n",
       "div_u     104.507319\n",
       "第二不変量Q     15.200437\n",
       "dtype: float64"
      ]
     },
     "metadata": {},
     "output_type": "display_data"
    },
    {
     "data": {
      "text/plain": [
       "x          0.000000\n",
       "y         -0.600000\n",
       "z         -0.800265\n",
       "rho        0.043566\n",
       "div_u     24.415493\n",
       "第二不変量Q   -19.230527\n",
       "dtype: float64"
      ]
     },
     "metadata": {},
     "output_type": "display_data"
    }
   ],
   "source": [
    "display(df_part.max())\n",
    "display(df_part.min())"
   ]
  },
  {
   "cell_type": "code",
   "execution_count": 6,
   "metadata": {
    "scrolled": false
   },
   "outputs": [
    {
     "data": {
      "text/plain": [
       "x          36.000000\n",
       "y          10.000000\n",
       "z           2.500000\n",
       "rho        53.719916\n",
       "div_u     104.507319\n",
       "第二不変量Q    219.809996\n",
       "dtype: float64"
      ]
     },
     "metadata": {},
     "output_type": "display_data"
    },
    {
     "data": {
      "text/plain": [
       "x           0.000000\n",
       "y         -10.000000\n",
       "z          -2.500000\n",
       "rho         0.043566\n",
       "div_u     -50.527154\n",
       "第二不変量Q   -139.148370\n",
       "dtype: float64"
      ]
     },
     "metadata": {},
     "output_type": "display_data"
    }
   ],
   "source": [
    "#rhoの値に関係ない全体での最大・最小値\n",
    "display(df.max())\n",
    "display(df.min())"
   ]
  }
 ],
 "metadata": {
  "kernelspec": {
   "display_name": "Python 3",
   "language": "python",
   "name": "python3"
  },
  "language_info": {
   "codemirror_mode": {
    "name": "ipython",
    "version": 3
   },
   "file_extension": ".py",
   "mimetype": "text/x-python",
   "name": "python",
   "nbconvert_exporter": "python",
   "pygments_lexer": "ipython3",
   "version": "3.7.3"
  }
 },
 "nbformat": 4,
 "nbformat_minor": 2
}
