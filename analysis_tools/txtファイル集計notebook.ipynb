{
 "cells": [
  {
   "cell_type": "code",
   "execution_count": 11,
   "metadata": {},
   "outputs": [
    {
     "data": {
      "text/html": [
       "<div>\n",
       "<style scoped>\n",
       "    .dataframe tbody tr th:only-of-type {\n",
       "        vertical-align: middle;\n",
       "    }\n",
       "\n",
       "    .dataframe tbody tr th {\n",
       "        vertical-align: top;\n",
       "    }\n",
       "\n",
       "    .dataframe thead th {\n",
       "        text-align: right;\n",
       "    }\n",
       "</style>\n",
       "<table border=\"1\" class=\"dataframe\">\n",
       "  <thead>\n",
       "    <tr style=\"text-align: right;\">\n",
       "      <th></th>\n",
       "      <th>x</th>\n",
       "      <th>y</th>\n",
       "      <th>z</th>\n",
       "      <th>rho</th>\n",
       "      <th>div_u</th>\n",
       "      <th>第二不変量Q</th>\n",
       "    </tr>\n",
       "  </thead>\n",
       "  <tbody>\n",
       "    <tr>\n",
       "      <th>0</th>\n",
       "      <td>0.00</td>\n",
       "      <td>-10.0</td>\n",
       "      <td>0.35</td>\n",
       "      <td>1.000000</td>\n",
       "      <td>0.219091</td>\n",
       "      <td>-0.000000</td>\n",
       "    </tr>\n",
       "    <tr>\n",
       "      <th>1</th>\n",
       "      <td>0.05</td>\n",
       "      <td>-10.0</td>\n",
       "      <td>0.35</td>\n",
       "      <td>0.991128</td>\n",
       "      <td>0.015460</td>\n",
       "      <td>-0.000086</td>\n",
       "    </tr>\n",
       "    <tr>\n",
       "      <th>2</th>\n",
       "      <td>0.10</td>\n",
       "      <td>-10.0</td>\n",
       "      <td>0.35</td>\n",
       "      <td>0.991465</td>\n",
       "      <td>-0.005669</td>\n",
       "      <td>-0.000076</td>\n",
       "    </tr>\n",
       "    <tr>\n",
       "      <th>3</th>\n",
       "      <td>0.15</td>\n",
       "      <td>-10.0</td>\n",
       "      <td>0.35</td>\n",
       "      <td>0.991585</td>\n",
       "      <td>0.006597</td>\n",
       "      <td>-0.000033</td>\n",
       "    </tr>\n",
       "    <tr>\n",
       "      <th>4</th>\n",
       "      <td>0.20</td>\n",
       "      <td>-10.0</td>\n",
       "      <td>0.35</td>\n",
       "      <td>0.991463</td>\n",
       "      <td>0.000641</td>\n",
       "      <td>-0.000042</td>\n",
       "    </tr>\n",
       "  </tbody>\n",
       "</table>\n",
       "</div>"
      ],
      "text/plain": [
       "      x     y     z       rho     div_u    第二不変量Q\n",
       "0  0.00 -10.0  0.35  1.000000  0.219091 -0.000000\n",
       "1  0.05 -10.0  0.35  0.991128  0.015460 -0.000086\n",
       "2  0.10 -10.0  0.35  0.991465 -0.005669 -0.000076\n",
       "3  0.15 -10.0  0.35  0.991585  0.006597 -0.000033\n",
       "4  0.20 -10.0  0.35  0.991463  0.000641 -0.000042"
      ]
     },
     "execution_count": 11,
     "metadata": {},
     "output_type": "execute_result"
    }
   ],
   "source": [
    "import pandas as pd\n",
    "names=[\"x\",\"y\",\"z\",\"rho\",\"div_u\",\"第二不変量Q\"]\n",
    "df = pd.read_csv(\"/Users/isseyshome/Downloads/kari/parameter005685_07.txt\",\\\n",
    "                 sep=\",\",header = None,names=names)\n",
    "# names=[\"x\",\"y\",\"z\",\"rho\",\"div_u\",\"第二不変量Q\",\"ゴミ\"]\n",
    "# df = pd.read_csv(\"/Users/isseyshome/Documents/GitHub/Inoue_Lab/3dimensions/result_omp/parameter000095_11.txt\",\\\n",
    "#                  sep=\",\",header = None,names=names)\n",
    "df.head()"
   ]
  },
  {
   "cell_type": "code",
   "execution_count": 12,
   "metadata": {},
   "outputs": [
    {
     "data": {
      "text/html": [
       "<div>\n",
       "<style scoped>\n",
       "    .dataframe tbody tr th:only-of-type {\n",
       "        vertical-align: middle;\n",
       "    }\n",
       "\n",
       "    .dataframe tbody tr th {\n",
       "        vertical-align: top;\n",
       "    }\n",
       "\n",
       "    .dataframe thead th {\n",
       "        text-align: right;\n",
       "    }\n",
       "</style>\n",
       "<table border=\"1\" class=\"dataframe\">\n",
       "  <thead>\n",
       "    <tr style=\"text-align: right;\">\n",
       "      <th></th>\n",
       "      <th>x</th>\n",
       "      <th>y</th>\n",
       "      <th>z</th>\n",
       "      <th>rho</th>\n",
       "      <th>div_u</th>\n",
       "      <th>第二不変量Q</th>\n",
       "    </tr>\n",
       "  </thead>\n",
       "  <tbody>\n",
       "    <tr>\n",
       "      <th>36295</th>\n",
       "      <td>15.964286</td>\n",
       "      <td>0.00</td>\n",
       "      <td>0.35</td>\n",
       "      <td>0.240271</td>\n",
       "      <td>-0.058628</td>\n",
       "      <td>-0.005871</td>\n",
       "    </tr>\n",
       "    <tr>\n",
       "      <th>35934</th>\n",
       "      <td>15.964286</td>\n",
       "      <td>-0.05</td>\n",
       "      <td>0.35</td>\n",
       "      <td>0.240273</td>\n",
       "      <td>-0.047279</td>\n",
       "      <td>-0.005346</td>\n",
       "    </tr>\n",
       "    <tr>\n",
       "      <th>36656</th>\n",
       "      <td>15.964286</td>\n",
       "      <td>0.05</td>\n",
       "      <td>0.35</td>\n",
       "      <td>0.240438</td>\n",
       "      <td>-0.080400</td>\n",
       "      <td>-0.006758</td>\n",
       "    </tr>\n",
       "    <tr>\n",
       "      <th>35573</th>\n",
       "      <td>15.964286</td>\n",
       "      <td>-0.10</td>\n",
       "      <td>0.35</td>\n",
       "      <td>0.240447</td>\n",
       "      <td>-0.046824</td>\n",
       "      <td>-0.005251</td>\n",
       "    </tr>\n",
       "    <tr>\n",
       "      <th>37017</th>\n",
       "      <td>15.964286</td>\n",
       "      <td>0.10</td>\n",
       "      <td>0.35</td>\n",
       "      <td>0.240784</td>\n",
       "      <td>-0.112342</td>\n",
       "      <td>-0.007920</td>\n",
       "    </tr>\n",
       "  </tbody>\n",
       "</table>\n",
       "</div>"
      ],
      "text/plain": [
       "               x     y     z       rho     div_u    第二不変量Q\n",
       "36295  15.964286  0.00  0.35  0.240271 -0.058628 -0.005871\n",
       "35934  15.964286 -0.05  0.35  0.240273 -0.047279 -0.005346\n",
       "36656  15.964286  0.05  0.35  0.240438 -0.080400 -0.006758\n",
       "35573  15.964286 -0.10  0.35  0.240447 -0.046824 -0.005251\n",
       "37017  15.964286  0.10  0.35  0.240784 -0.112342 -0.007920"
      ]
     },
     "execution_count": 12,
     "metadata": {},
     "output_type": "execute_result"
    }
   ],
   "source": [
    "df = df.sort_values('rho')\n",
    "df.head()"
   ]
  },
  {
   "cell_type": "code",
   "execution_count": 13,
   "metadata": {},
   "outputs": [
    {
     "data": {
      "text/plain": [
       "53"
      ]
     },
     "execution_count": 13,
     "metadata": {},
     "output_type": "execute_result"
    }
   ],
   "source": [
    "#rhoが小さくなってNaNの原因になっていそうな箇所を抽出する\n",
    "df_part = df.query(\"rho < 0.3\")\n",
    "len(df_part)"
   ]
  },
  {
   "cell_type": "code",
   "execution_count": 14,
   "metadata": {},
   "outputs": [
    {
     "data": {
      "text/plain": [
       "x          1\n",
       "y          2\n",
       "z          1\n",
       "rho       53\n",
       "div_u     53\n",
       "第二不変量Q    53\n",
       "dtype: int64"
      ]
     },
     "metadata": {},
     "output_type": "display_data"
    },
    {
     "data": {
      "text/plain": [
       "x          15.964286\n",
       "y          -0.400000\n",
       "z           0.350000\n",
       "rho         0.240271\n",
       "div_u      -1.728761\n",
       "第二不変量Q   -185.794542\n",
       "Name: 0, dtype: float64"
      ]
     },
     "metadata": {},
     "output_type": "display_data"
    }
   ],
   "source": [
    "#最頻値の個数と最大の最頻値\n",
    "display(df_part.mode().count())\n",
    "display(df_part.mode().iloc[0])"
   ]
  },
  {
   "cell_type": "code",
   "execution_count": 15,
   "metadata": {},
   "outputs": [
    {
     "data": {
      "text/plain": [
       "x         15.964286\n",
       "y          0.700000\n",
       "z          0.350000\n",
       "rho        0.298574\n",
       "div_u      1.681398\n",
       "第二不変量Q     0.099957\n",
       "dtype: float64"
      ]
     },
     "metadata": {},
     "output_type": "display_data"
    },
    {
     "data": {
      "text/plain": [
       "x           0.000000\n",
       "y          -0.700000\n",
       "z           0.350000\n",
       "rho         0.240271\n",
       "div_u      -1.728761\n",
       "第二不変量Q   -185.794542\n",
       "dtype: float64"
      ]
     },
     "metadata": {},
     "output_type": "display_data"
    }
   ],
   "source": [
    "display(df_part.max())\n",
    "display(df_part.min())"
   ]
  },
  {
   "cell_type": "code",
   "execution_count": 16,
   "metadata": {
    "scrolled": false
   },
   "outputs": [
    {
     "data": {
      "text/plain": [
       "x          36.000000\n",
       "y          10.000000\n",
       "z           0.350000\n",
       "rho         1.224491\n",
       "div_u       5.127549\n",
       "第二不変量Q    128.551892\n",
       "dtype: float64"
      ]
     },
     "metadata": {},
     "output_type": "display_data"
    },
    {
     "data": {
      "text/plain": [
       "x           0.000000\n",
       "y         -10.000000\n",
       "z           0.350000\n",
       "rho         0.240271\n",
       "div_u     -19.809272\n",
       "第二不変量Q   -185.794542\n",
       "dtype: float64"
      ]
     },
     "metadata": {},
     "output_type": "display_data"
    }
   ],
   "source": [
    "#rhoの値に関係ない全体での最大・最小値\n",
    "display(df.max())\n",
    "display(df.min())"
   ]
  }
 ],
 "metadata": {
  "kernelspec": {
   "display_name": "Python 3",
   "language": "python",
   "name": "python3"
  },
  "language_info": {
   "codemirror_mode": {
    "name": "ipython",
    "version": 3
   },
   "file_extension": ".py",
   "mimetype": "text/x-python",
   "name": "python",
   "nbconvert_exporter": "python",
   "pygments_lexer": "ipython3",
   "version": "3.7.3"
  }
 },
 "nbformat": 4,
 "nbformat_minor": 2
}
