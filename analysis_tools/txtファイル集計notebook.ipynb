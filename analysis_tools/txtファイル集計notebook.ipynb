{
 "cells": [
  {
   "cell_type": "code",
   "execution_count": 46,
   "metadata": {},
   "outputs": [
    {
     "data": {
      "text/html": [
       "<div>\n",
       "<style scoped>\n",
       "    .dataframe tbody tr th:only-of-type {\n",
       "        vertical-align: middle;\n",
       "    }\n",
       "\n",
       "    .dataframe tbody tr th {\n",
       "        vertical-align: top;\n",
       "    }\n",
       "\n",
       "    .dataframe thead th {\n",
       "        text-align: right;\n",
       "    }\n",
       "</style>\n",
       "<table border=\"1\" class=\"dataframe\">\n",
       "  <thead>\n",
       "    <tr style=\"text-align: right;\">\n",
       "      <th></th>\n",
       "      <th>x</th>\n",
       "      <th>y</th>\n",
       "      <th>z</th>\n",
       "      <th>rho</th>\n",
       "      <th>div_u</th>\n",
       "      <th>第二不変量Q</th>\n",
       "      <th>dp/dt</th>\n",
       "    </tr>\n",
       "  </thead>\n",
       "  <tbody>\n",
       "    <tr>\n",
       "      <th>35018</th>\n",
       "      <td>0.05</td>\n",
       "      <td>-0.150000</td>\n",
       "      <td>0.95</td>\n",
       "      <td>1.003591</td>\n",
       "      <td>12.475184</td>\n",
       "      <td>40.575428</td>\n",
       "      <td>-0.000389</td>\n",
       "    </tr>\n",
       "    <tr>\n",
       "      <th>46208</th>\n",
       "      <td>0.00</td>\n",
       "      <td>1.403012</td>\n",
       "      <td>0.95</td>\n",
       "      <td>1.024206</td>\n",
       "      <td>9.172640</td>\n",
       "      <td>-0.000099</td>\n",
       "      <td>0.000053</td>\n",
       "    </tr>\n",
       "    <tr>\n",
       "      <th>35019</th>\n",
       "      <td>0.10</td>\n",
       "      <td>-0.150000</td>\n",
       "      <td>0.95</td>\n",
       "      <td>0.736224</td>\n",
       "      <td>9.062518</td>\n",
       "      <td>26.954522</td>\n",
       "      <td>-0.001404</td>\n",
       "    </tr>\n",
       "    <tr>\n",
       "      <th>45847</th>\n",
       "      <td>0.00</td>\n",
       "      <td>1.350759</td>\n",
       "      <td>0.95</td>\n",
       "      <td>1.014535</td>\n",
       "      <td>8.878717</td>\n",
       "      <td>0.004301</td>\n",
       "      <td>-0.000024</td>\n",
       "    </tr>\n",
       "    <tr>\n",
       "      <th>46569</th>\n",
       "      <td>0.00</td>\n",
       "      <td>1.461246</td>\n",
       "      <td>0.95</td>\n",
       "      <td>1.012673</td>\n",
       "      <td>8.812838</td>\n",
       "      <td>-0.010798</td>\n",
       "      <td>0.000078</td>\n",
       "    </tr>\n",
       "    <tr>\n",
       "      <th>48374</th>\n",
       "      <td>0.00</td>\n",
       "      <td>1.985903</td>\n",
       "      <td>0.95</td>\n",
       "      <td>1.001743</td>\n",
       "      <td>8.387258</td>\n",
       "      <td>-0.000063</td>\n",
       "      <td>-0.000002</td>\n",
       "    </tr>\n",
       "    <tr>\n",
       "      <th>46930</th>\n",
       "      <td>0.00</td>\n",
       "      <td>1.535365</td>\n",
       "      <td>0.95</td>\n",
       "      <td>0.998821</td>\n",
       "      <td>8.378337</td>\n",
       "      <td>-0.002864</td>\n",
       "      <td>0.000052</td>\n",
       "    </tr>\n",
       "    <tr>\n",
       "      <th>24187</th>\n",
       "      <td>0.00</td>\n",
       "      <td>-1.865045</td>\n",
       "      <td>0.95</td>\n",
       "      <td>1.001351</td>\n",
       "      <td>8.377111</td>\n",
       "      <td>-0.000142</td>\n",
       "      <td>-0.000002</td>\n",
       "    </tr>\n",
       "    <tr>\n",
       "      <th>24548</th>\n",
       "      <td>0.00</td>\n",
       "      <td>-1.745869</td>\n",
       "      <td>0.95</td>\n",
       "      <td>1.000001</td>\n",
       "      <td>8.357282</td>\n",
       "      <td>-0.000049</td>\n",
       "      <td>-0.000006</td>\n",
       "    </tr>\n",
       "    <tr>\n",
       "      <th>48735</th>\n",
       "      <td>0.00</td>\n",
       "      <td>2.107189</td>\n",
       "      <td>0.95</td>\n",
       "      <td>1.001244</td>\n",
       "      <td>8.355487</td>\n",
       "      <td>-0.000021</td>\n",
       "      <td>0.000009</td>\n",
       "    </tr>\n",
       "  </tbody>\n",
       "</table>\n",
       "</div>"
      ],
      "text/plain": [
       "          x         y     z       rho      div_u     第二不変量Q     dp/dt\n",
       "35018  0.05 -0.150000  0.95  1.003591  12.475184  40.575428 -0.000389\n",
       "46208  0.00  1.403012  0.95  1.024206   9.172640  -0.000099  0.000053\n",
       "35019  0.10 -0.150000  0.95  0.736224   9.062518  26.954522 -0.001404\n",
       "45847  0.00  1.350759  0.95  1.014535   8.878717   0.004301 -0.000024\n",
       "46569  0.00  1.461246  0.95  1.012673   8.812838  -0.010798  0.000078\n",
       "48374  0.00  1.985903  0.95  1.001743   8.387258  -0.000063 -0.000002\n",
       "46930  0.00  1.535365  0.95  0.998821   8.378337  -0.002864  0.000052\n",
       "24187  0.00 -1.865045  0.95  1.001351   8.377111  -0.000142 -0.000002\n",
       "24548  0.00 -1.745869  0.95  1.000001   8.357282  -0.000049 -0.000006\n",
       "48735  0.00  2.107189  0.95  1.001244   8.355487  -0.000021  0.000009"
      ]
     },
     "execution_count": 46,
     "metadata": {},
     "output_type": "execute_result"
    }
   ],
   "source": [
    "import pandas as pd\n",
    "# names=[\"x\",\"y\",\"z\",\"rho\",\"div_u\",\"第二不変量Q\"] # NaNの時\n",
    "names=[\"x\",\"y\",\"z\",\"rho\",\"div_u\",\"第二不変量Q\",\"dp/dt\"] #通常時\n",
    "df = pd.read_csv(\"/Users/isseyshome/Downloads/result_omp_1.4/parameter015000_19.txt\",\\\n",
    "                 sep=\",\",header = None,names=names)\n",
    "\n",
    "df.head()\n",
    "df = df.sort_values('rho')"
   ]
  },
  {
   "cell_type": "code",
   "execution_count": 28,
   "metadata": {},
   "outputs": [
    {
     "data": {
      "text/html": [
       "<div>\n",
       "<style scoped>\n",
       "    .dataframe tbody tr th:only-of-type {\n",
       "        vertical-align: middle;\n",
       "    }\n",
       "\n",
       "    .dataframe tbody tr th {\n",
       "        vertical-align: top;\n",
       "    }\n",
       "\n",
       "    .dataframe thead th {\n",
       "        text-align: right;\n",
       "    }\n",
       "</style>\n",
       "<table border=\"1\" class=\"dataframe\">\n",
       "  <thead>\n",
       "    <tr style=\"text-align: right;\">\n",
       "      <th></th>\n",
       "      <th>x</th>\n",
       "      <th>y</th>\n",
       "      <th>z</th>\n",
       "      <th>rho</th>\n",
       "      <th>div_u</th>\n",
       "      <th>第二不変量Q</th>\n",
       "      <th>dp/dt</th>\n",
       "    </tr>\n",
       "  </thead>\n",
       "  <tbody>\n",
       "    <tr>\n",
       "      <th>46208</th>\n",
       "      <td>0.0</td>\n",
       "      <td>1.403012</td>\n",
       "      <td>0.0</td>\n",
       "      <td>1.012650</td>\n",
       "      <td>8.834651</td>\n",
       "      <td>-0.002160</td>\n",
       "      <td>0.000070</td>\n",
       "    </tr>\n",
       "    <tr>\n",
       "      <th>46569</th>\n",
       "      <td>0.0</td>\n",
       "      <td>1.461246</td>\n",
       "      <td>0.0</td>\n",
       "      <td>1.007334</td>\n",
       "      <td>8.653915</td>\n",
       "      <td>-0.009406</td>\n",
       "      <td>0.000080</td>\n",
       "    </tr>\n",
       "    <tr>\n",
       "      <th>25992</th>\n",
       "      <td>0.0</td>\n",
       "      <td>-1.403012</td>\n",
       "      <td>0.0</td>\n",
       "      <td>1.006739</td>\n",
       "      <td>8.621079</td>\n",
       "      <td>0.003624</td>\n",
       "      <td>0.000015</td>\n",
       "    </tr>\n",
       "    <tr>\n",
       "      <th>26353</th>\n",
       "      <td>0.0</td>\n",
       "      <td>-1.350759</td>\n",
       "      <td>0.0</td>\n",
       "      <td>1.003729</td>\n",
       "      <td>8.510281</td>\n",
       "      <td>-0.004558</td>\n",
       "      <td>-0.000028</td>\n",
       "    </tr>\n",
       "    <tr>\n",
       "      <th>45847</th>\n",
       "      <td>0.0</td>\n",
       "      <td>1.350759</td>\n",
       "      <td>0.0</td>\n",
       "      <td>1.001037</td>\n",
       "      <td>8.498948</td>\n",
       "      <td>0.015245</td>\n",
       "      <td>-0.000013</td>\n",
       "    </tr>\n",
       "    <tr>\n",
       "      <th>46930</th>\n",
       "      <td>0.0</td>\n",
       "      <td>1.535365</td>\n",
       "      <td>0.0</td>\n",
       "      <td>0.999648</td>\n",
       "      <td>8.406483</td>\n",
       "      <td>-0.004388</td>\n",
       "      <td>0.000044</td>\n",
       "    </tr>\n",
       "    <tr>\n",
       "      <th>24187</th>\n",
       "      <td>0.0</td>\n",
       "      <td>-1.865045</td>\n",
       "      <td>0.0</td>\n",
       "      <td>1.001420</td>\n",
       "      <td>8.379765</td>\n",
       "      <td>-0.000051</td>\n",
       "      <td>-0.000010</td>\n",
       "    </tr>\n",
       "    <tr>\n",
       "      <th>25631</th>\n",
       "      <td>0.0</td>\n",
       "      <td>-1.461246</td>\n",
       "      <td>0.0</td>\n",
       "      <td>0.999181</td>\n",
       "      <td>8.379400</td>\n",
       "      <td>-0.009937</td>\n",
       "      <td>0.000039</td>\n",
       "    </tr>\n",
       "    <tr>\n",
       "      <th>23826</th>\n",
       "      <td>0.0</td>\n",
       "      <td>-1.985903</td>\n",
       "      <td>0.0</td>\n",
       "      <td>1.001863</td>\n",
       "      <td>8.375430</td>\n",
       "      <td>-0.000076</td>\n",
       "      <td>0.000003</td>\n",
       "    </tr>\n",
       "    <tr>\n",
       "      <th>48374</th>\n",
       "      <td>0.0</td>\n",
       "      <td>1.985903</td>\n",
       "      <td>0.0</td>\n",
       "      <td>1.001094</td>\n",
       "      <td>8.367058</td>\n",
       "      <td>-0.000054</td>\n",
       "      <td>0.000001</td>\n",
       "    </tr>\n",
       "  </tbody>\n",
       "</table>\n",
       "</div>"
      ],
      "text/plain": [
       "         x         y    z       rho     div_u    第二不変量Q     dp/dt\n",
       "46208  0.0  1.403012  0.0  1.012650  8.834651 -0.002160  0.000070\n",
       "46569  0.0  1.461246  0.0  1.007334  8.653915 -0.009406  0.000080\n",
       "25992  0.0 -1.403012  0.0  1.006739  8.621079  0.003624  0.000015\n",
       "26353  0.0 -1.350759  0.0  1.003729  8.510281 -0.004558 -0.000028\n",
       "45847  0.0  1.350759  0.0  1.001037  8.498948  0.015245 -0.000013\n",
       "46930  0.0  1.535365  0.0  0.999648  8.406483 -0.004388  0.000044\n",
       "24187  0.0 -1.865045  0.0  1.001420  8.379765 -0.000051 -0.000010\n",
       "25631  0.0 -1.461246  0.0  0.999181  8.379400 -0.009937  0.000039\n",
       "23826  0.0 -1.985903  0.0  1.001863  8.375430 -0.000076  0.000003\n",
       "48374  0.0  1.985903  0.0  1.001094  8.367058 -0.000054  0.000001"
      ]
     },
     "execution_count": 28,
     "metadata": {},
     "output_type": "execute_result"
    }
   ],
   "source": [
    "df = df.sort_values('rho')\n",
    "# df = df.sort_values('div_u',ascending=False)\n",
    "df.head(10)"
   ]
  },
  {
   "cell_type": "code",
   "execution_count": 3,
   "metadata": {},
   "outputs": [
    {
     "data": {
      "text/plain": [
       "7"
      ]
     },
     "execution_count": 3,
     "metadata": {},
     "output_type": "execute_result"
    }
   ],
   "source": [
    "#rhoが小さくなってNaNの原因になっていそうな箇所を抽出する\n",
    "df_part = df.query(\"rho < 0.3\")\n",
    "len(df_part)"
   ]
  },
  {
   "cell_type": "code",
   "execution_count": 4,
   "metadata": {},
   "outputs": [
    {
     "data": {
      "text/plain": [
       "x         1\n",
       "y         7\n",
       "z         1\n",
       "rho       7\n",
       "div_u     7\n",
       "第二不変量Q    7\n",
       "dtype: int64"
      ]
     },
     "metadata": {},
     "output_type": "display_data"
    },
    {
     "data": {
      "text/plain": [
       "x          0.000000\n",
       "y         -0.700000\n",
       "z          0.500000\n",
       "rho        0.028223\n",
       "div_u    -46.631791\n",
       "第二不変量Q    -1.152550\n",
       "Name: 0, dtype: float64"
      ]
     },
     "metadata": {},
     "output_type": "display_data"
    }
   ],
   "source": [
    "#最頻値の個数と最大の最頻値\n",
    "display(df_part.mode().count())\n",
    "display(df_part.mode().iloc[0])"
   ]
  },
  {
   "cell_type": "code",
   "execution_count": 5,
   "metadata": {},
   "outputs": [
    {
     "data": {
      "text/plain": [
       "x          0.000000\n",
       "y          0.900000\n",
       "z          0.500000\n",
       "rho        0.295822\n",
       "div_u    -16.038390\n",
       "第二不変量Q     0.823819\n",
       "dtype: float64"
      ]
     },
     "metadata": {},
     "output_type": "display_data"
    },
    {
     "data": {
      "text/plain": [
       "x          0.000000\n",
       "y         -0.700000\n",
       "z          0.500000\n",
       "rho        0.028223\n",
       "div_u    -46.631791\n",
       "第二不変量Q    -1.152550\n",
       "dtype: float64"
      ]
     },
     "metadata": {},
     "output_type": "display_data"
    }
   ],
   "source": [
    "display(df_part.max())\n",
    "display(df_part.min())"
   ]
  },
  {
   "cell_type": "code",
   "execution_count": 6,
   "metadata": {
    "scrolled": false
   },
   "outputs": [
    {
     "data": {
      "text/plain": [
       "x         36.000000\n",
       "y         10.000000\n",
       "z          0.500000\n",
       "rho        1.752460\n",
       "div_u     10.527409\n",
       "第二不変量Q    32.607059\n",
       "dtype: float64"
      ]
     },
     "metadata": {},
     "output_type": "display_data"
    },
    {
     "data": {
      "text/plain": [
       "x          0.000000\n",
       "y        -10.000000\n",
       "z          0.500000\n",
       "rho        0.028223\n",
       "div_u    -46.631791\n",
       "第二不変量Q   -31.837822\n",
       "dtype: float64"
      ]
     },
     "metadata": {},
     "output_type": "display_data"
    }
   ],
   "source": [
    "#rhoの値に関係ない全体での最大・最小値\n",
    "display(df.max())\n",
    "display(df.min())"
   ]
  }
 ],
 "metadata": {
  "kernelspec": {
   "display_name": "Python 3",
   "language": "python",
   "name": "python3"
  },
  "language_info": {
   "codemirror_mode": {
    "name": "ipython",
    "version": 3
   },
   "file_extension": ".py",
   "mimetype": "text/x-python",
   "name": "python",
   "nbconvert_exporter": "python",
   "pygments_lexer": "ipython3",
   "version": "3.7.3"
  }
 },
 "nbformat": 4,
 "nbformat_minor": 2
}
